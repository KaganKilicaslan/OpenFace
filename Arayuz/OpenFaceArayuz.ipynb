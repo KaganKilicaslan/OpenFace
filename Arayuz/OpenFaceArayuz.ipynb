{
 "cells": [
  {
   "cell_type": "code",
   "execution_count": 52,
   "id": "da1ca48d",
   "metadata": {
    "scrolled": false
   },
   "outputs": [],
   "source": [
    "from tkinter import * \n",
    "from tkinter import messagebox\n",
    "from PIL import ImageTk, Image\n",
    "from tkinter import filedialog\n",
    "import os\n",
    "\n",
    "#pencere tanımlaması\n",
    "pencere = Tk()\n",
    " \n",
    "pencere.title(\"OpenFace\")\n",
    "pencere.geometry(\"1280x600\")\n",
    "pencere.resizable(width=True, height=True)\n",
    "\n",
    "#buton ile fotograf ekleme\n",
    "def openfn():\n",
    "    filename = filedialog.askopenfilename(title='open')\n",
    "    return filename\n",
    "def open_img():\n",
    "    x = openfn()\n",
    "    img = Image.open(x)\n",
    "    img = img.resize((480, 480), Image.ANTIALIAS)\n",
    "    img = ImageTk.PhotoImage(img)\n",
    "    panel = Label(uygulama, image=img)\n",
    "    panel.image = img\n",
    "    panel.pack()\n",
    "\n",
    "uygulama = Frame(pencere)\n",
    "uygulama.grid()\n",
    "\n",
    "button1 = Button(uygulama, text =\"Fotograf Yukleme\", width=30,height=1, command=open_img).pack()\n",
    "#etiketler\n",
    "etiket1 = Label(uygulama,text=\"Kullanici Fotograf Alani\")\n",
    "etiket1.pack()\n",
    "\n",
    "\n",
    "pencere.mainloop()\n"
   ]
  },
  {
   "cell_type": "code",
   "execution_count": null,
   "id": "cd6bd6fa",
   "metadata": {},
   "outputs": [],
   "source": []
  }
 ],
 "metadata": {
  "kernelspec": {
   "display_name": "Python 3",
   "language": "python",
   "name": "python3"
  },
  "language_info": {
   "codemirror_mode": {
    "name": "ipython",
    "version": 3
   },
   "file_extension": ".py",
   "mimetype": "text/x-python",
   "name": "python",
   "nbconvert_exporter": "python",
   "pygments_lexer": "ipython3",
   "version": "3.8.8"
  }
 },
 "nbformat": 4,
 "nbformat_minor": 5
}
